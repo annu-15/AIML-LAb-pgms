{
 "cells": [
  {
   "cell_type": "code",
   "execution_count": 27,
   "id": "c09b0eb2",
   "metadata": {},
   "outputs": [],
   "source": [
    "class Graph:\n",
    "    def __init__(self, graph, heuristicNodeList, startNode):\n",
    "        self.graph = graph\n",
    "        self.H=heuristicNodeList\n",
    "        self.start=startNode\n",
    "        self.parent={}\n",
    "        self.status={}\n",
    "        self.solutionGraph={}\n",
    "\n",
    "    def applyAOStar(self): \n",
    "        self.aoStar(self.start, False)\n",
    "        \n",
    "    def getNeighbors(self, v): \n",
    "        return self.graph.get(v,'')\n",
    "    \n",
    "    def getStatus(self,v): \n",
    "        return self.status.get(v,0)\n",
    "    \n",
    "    def setStatus(self,v, val): \n",
    "        self.status[v]=val\n",
    "\n",
    "    def getHeuristicNodeValue(self, n):\n",
    "        return self.H.get(n,0) \n",
    "\n",
    "    def setHeuristicNodeValue(self, n, value):\n",
    "         self.H[n]=value\n",
    "\n",
    "    def printSolution(self):\n",
    "        print(\"FOR GRAPH SOLUTION, TRAVERSE THE GRAPH FROM THE START NODE:\",self.start)\n",
    "        print(\"------------------------------------------------------------\")\n",
    "        print(self.solutionGraph)\n",
    "        print(\"------------------------------------------------------------\")"
   ]
  },
  {
   "cell_type": "code",
   "execution_count": 22,
   "id": "19a247ae",
   "metadata": {},
   "outputs": [],
   "source": [
    "def computeMinimumCostChildNodes(self, v):\n",
    "    minimumCost=0\n",
    "    costToChildNodeListDict={}\n",
    "    costToChildNodeListDict[minimumCost]=[]\n",
    "    flag=True\n",
    "    for nodeInfoTupleList in self.getNeighbors(v): \n",
    "        cost=0\n",
    "        nodeList=[]\n",
    "        for c, weight in nodeInfoTupleList:\n",
    "            cost=cost+self.getHeuristicNodeValue(c)+weight\n",
    "            nodeList.append(c)\n",
    "\n",
    "        if flag==True:\n",
    "            minimumCost=cost\n",
    "            costToChildNodeListDict[minimumCost]=nodeList\n",
    "            flag=False\n",
    "        else:\n",
    "            if minimumCost>cost:\n",
    "                minimumCost=cost\n",
    "                costToChildNodeListDict[minimumCost]=nodeList\n",
    "\n",
    "\n",
    "\n",
    "    return minimumCost, costToChildNodeListDict[minimumCost]\n",
    "    \n",
    "def aoStar(self, v, backTracking): \n",
    "    print(\"HEURISTIC VALUES :\", self.H)\n",
    "    print(\"SOLUTION GRAPH :\", self.solutionGraph)\n",
    "    print(\"PROCESSING NODE :\", v)\n",
    "    print(\"-----------------------------------------------------------------------------------------\")\n",
    "\n",
    "    if self.getStatus(v) >= 0:\n",
    "        minimumCost, childNodeList = self.computeMinimumCostChildNodes(v)\n",
    "        self.setHeuristicNodeValue(v, minimumCost)\n",
    "        self.setStatus(v,len(childNodeList))\n",
    "        solved=True\n",
    "    for childNode in childNodeList:\n",
    "        self.parent[childNode]=v\n",
    "        \n",
    "        if self.getStatus(childNode)!=-1:\n",
    "            solved=solved & False\n",
    "\n",
    "    if solved==True:\n",
    "        self.setStatus(v,-1)\n",
    "        self.solutionGraph[v]=childNodeList\n",
    "\n",
    "\n",
    "    if v!=self.start:\n",
    "        self.aoStar(self.parent[v], True) \n",
    "\n",
    "    if backTracking==False: \n",
    "        for childNode in childNodeList: \n",
    "            self.setStatus(childNode,0) \n",
    "            self.aoStar(childNode, False)\n"
   ]
  },
  {
   "cell_type": "code",
   "execution_count": 23,
   "id": "215773ca",
   "metadata": {},
   "outputs": [],
   "source": []
  },
  {
   "cell_type": "code",
   "execution_count": 26,
   "id": "ad238368",
   "metadata": {},
   "outputs": [],
   "source": [
    "h1 = {'A': 1, 'B': 6, 'C': 2, 'D': 12, 'E': 2, 'F': 1, 'G': 5,'H': 7, 'I': 7, 'J': 1, 'T': 3}\n",
    "graph1 = {\n",
    " 'A': [[('B', 1), ('C', 1)], [('D', 1)]],\n",
    " 'B': [[('G', 1)], [('H', 1)]],\n",
    " 'C': [[('J', 1)]],\n",
    " 'D': [[('E', 1), ('F', 1)]],\n",
    " 'G': [[('I', 1)]]\n",
    "}\n",
    "\n"
   ]
  },
  {
   "cell_type": "code",
   "execution_count": 25,
   "id": "86d038ae",
   "metadata": {},
   "outputs": [
    {
     "ename": "AttributeError",
     "evalue": "'Graph' object has no attribute 'aoStar'",
     "output_type": "error",
     "traceback": [
      "\u001b[1;31m---------------------------------------------------------------------------\u001b[0m",
      "\u001b[1;31mAttributeError\u001b[0m                            Traceback (most recent call last)",
      "\u001b[1;32m~\\AppData\\Local\\Temp/ipykernel_20720/1646807063.py\u001b[0m in \u001b[0;36m<module>\u001b[1;34m\u001b[0m\n\u001b[0;32m      1\u001b[0m \u001b[0mG1\u001b[0m\u001b[1;33m=\u001b[0m \u001b[0mGraph\u001b[0m\u001b[1;33m(\u001b[0m\u001b[0mgraph1\u001b[0m\u001b[1;33m,\u001b[0m \u001b[0mh1\u001b[0m\u001b[1;33m,\u001b[0m \u001b[1;34m'A'\u001b[0m\u001b[1;33m)\u001b[0m\u001b[1;33m\u001b[0m\u001b[1;33m\u001b[0m\u001b[0m\n\u001b[1;32m----> 2\u001b[1;33m \u001b[0mG1\u001b[0m\u001b[1;33m.\u001b[0m\u001b[0mapplyAOStar\u001b[0m\u001b[1;33m(\u001b[0m\u001b[1;33m)\u001b[0m\u001b[1;33m\u001b[0m\u001b[1;33m\u001b[0m\u001b[0m\n\u001b[0m\u001b[0;32m      3\u001b[0m \u001b[0mG1\u001b[0m\u001b[1;33m.\u001b[0m\u001b[0mprintSolution\u001b[0m\u001b[1;33m(\u001b[0m\u001b[1;33m)\u001b[0m\u001b[1;33m\u001b[0m\u001b[1;33m\u001b[0m\u001b[0m\n",
      "\u001b[1;32m~\\AppData\\Local\\Temp/ipykernel_20720/1212908662.py\u001b[0m in \u001b[0;36mapplyAOStar\u001b[1;34m(self)\u001b[0m\n\u001b[0;32m      9\u001b[0m \u001b[1;33m\u001b[0m\u001b[0m\n\u001b[0;32m     10\u001b[0m     \u001b[1;32mdef\u001b[0m \u001b[0mapplyAOStar\u001b[0m\u001b[1;33m(\u001b[0m\u001b[0mself\u001b[0m\u001b[1;33m)\u001b[0m\u001b[1;33m:\u001b[0m\u001b[1;33m\u001b[0m\u001b[1;33m\u001b[0m\u001b[0m\n\u001b[1;32m---> 11\u001b[1;33m         \u001b[0mself\u001b[0m\u001b[1;33m.\u001b[0m\u001b[0maoStar\u001b[0m\u001b[1;33m(\u001b[0m\u001b[0mself\u001b[0m\u001b[1;33m.\u001b[0m\u001b[0mstart\u001b[0m\u001b[1;33m,\u001b[0m \u001b[1;32mFalse\u001b[0m\u001b[1;33m)\u001b[0m\u001b[1;33m\u001b[0m\u001b[1;33m\u001b[0m\u001b[0m\n\u001b[0m\u001b[0;32m     12\u001b[0m \u001b[1;33m\u001b[0m\u001b[0m\n\u001b[0;32m     13\u001b[0m     \u001b[1;32mdef\u001b[0m \u001b[0mgetNeighbors\u001b[0m\u001b[1;33m(\u001b[0m\u001b[0mself\u001b[0m\u001b[1;33m,\u001b[0m \u001b[0mv\u001b[0m\u001b[1;33m)\u001b[0m\u001b[1;33m:\u001b[0m\u001b[1;33m\u001b[0m\u001b[1;33m\u001b[0m\u001b[0m\n",
      "\u001b[1;31mAttributeError\u001b[0m: 'Graph' object has no attribute 'aoStar'"
     ]
    }
   ],
   "source": [
    "G1= Graph(graph1, h1, 'A')\n",
    "G1.applyAOStar()\n",
    "G1.printSolution()"
   ]
  },
  {
   "cell_type": "code",
   "execution_count": null,
   "id": "5e756b1e",
   "metadata": {},
   "outputs": [],
   "source": []
  },
  {
   "cell_type": "code",
   "execution_count": null,
   "id": "4464b82d",
   "metadata": {},
   "outputs": [],
   "source": []
  },
  {
   "cell_type": "code",
   "execution_count": null,
   "id": "b4ded832",
   "metadata": {},
   "outputs": [],
   "source": []
  }
 ],
 "metadata": {
  "kernelspec": {
   "display_name": "Python 3 (ipykernel)",
   "language": "python",
   "name": "python3"
  },
  "language_info": {
   "codemirror_mode": {
    "name": "ipython",
    "version": 3
   },
   "file_extension": ".py",
   "mimetype": "text/x-python",
   "name": "python",
   "nbconvert_exporter": "python",
   "pygments_lexer": "ipython3",
   "version": "3.9.7"
  }
 },
 "nbformat": 4,
 "nbformat_minor": 5
}
